{
 "cells": [
  {
   "cell_type": "markdown",
   "metadata": {},
   "source": [
    "## Reto 1: Hundir la Flota (Batalla Naval)\n",
    "### Objetivo: Implementar una versión simplificada del juego de Batalla Naval usando Python y Numpy para manejar el tablero del juego.\n",
    "\n",
    "- Crear un tablero 10x10 usando Numpy arrays.\n",
    "- Colocar 5 barcos de diferentes tamaños en posiciones aleatorias en el tablero.\n",
    "- Permitir que el jugador ingrese coordenadas para \"disparar\".\n",
    "- Mostrar un mensaje si el jugador acierta o falla, y actualizar el tablero acorde.\n",
    "- Seguir jugando hasta que todos los barcos sean hundidos.\n",
    "#### Habilidades aplicadas: Uso de arrays de Numpy, generación de números aleatorios, estructuras de control en Python.\n",
    "\n",
    "## Reto 2: Tres en Raya (Tic-Tac-Toe)\n",
    "### Objetivo: Implementar el juego de Tres en Raya.\n",
    "\n",
    "- Crear un tablero 3x3 usando Numpy arrays.\n",
    "- Permitir a dos jugadores ingresar sus movimientos alternadamente.\n",
    "- Verificar después de cada movimiento si alguno de los jugadores ha ganado.\n",
    "- Mostrar el tablero después de cada turno.\n",
    "- Terminar el juego si hay un ganador o si el tablero está lleno.\n",
    "#### Habilidades aplicadas: Manipulación de arrays, estructuras de control, funciones en Python.\n",
    "\n",
    "## Reto 3: Torres de Hanoi\n",
    "### Objetivo: Implementar el juego de las Torres de Hanoi usando Python.\n",
    "\n",
    "- Crear tres pilas para representar los tres postes del juego.\n",
    "- Implementar la lógica para mover un disco de un poste a otro, siguiendo las reglas del juego.\n",
    "- Desarrollar una función recursiva para resolver el juego.\n",
    "- Permitir al usuario elegir el número de discos con los que jugará.\n",
    "#### Habilidades aplicadas: Recursividad, estructuras de datos (pilas), funciones en Python."
   ]
  },
  {
   "cell_type": "markdown",
   "metadata": {},
   "source": [
    "``Deberas hacer por lo menos uno de los tres para de la fecha de entrega, pero antes de terminar el modulo de analisis de datos tendras que entregar todos..``"
   ]
  },
  {
   "cell_type": "markdown",
   "metadata": {},
   "source": [
    "como se cual debo hacer muy simple introduce tu fecha de cumpleaños en la siguiente funcion"
   ]
  },
  {
   "cell_type": "code",
   "execution_count": 4,
   "metadata": {},
   "outputs": [],
   "source": [
    "def cual_es_mi_reto(fecha: str) -> str:\n",
    "    \"\"\"\n",
    "    Args:\n",
    "    ------\n",
    "    fecha: str el formato de la fecha es DD-MM-YYYY\n",
    "    Returns:\n",
    "    -------\n",
    "    str: el numero del reto\n",
    "    \"\"\"\n",
    "    try:\n",
    "        return int(fecha.split('-')[0]) % 3\n",
    "    except:\n",
    "        return 'La fecha tiene que ser en este formato DD-MM-YYYY'"
   ]
  },
  {
   "cell_type": "code",
   "execution_count": 3,
   "metadata": {},
   "outputs": [
    {
     "data": {
      "text/plain": [
       "1"
      ]
     },
     "execution_count": 3,
     "metadata": {},
     "output_type": "execute_result"
    }
   ],
   "source": [
    "cual_es_mi_reto(fecha='22-09-1997')"
   ]
  },
  {
   "cell_type": "markdown",
   "metadata": {},
   "source": [
    "## Reto 1"
   ]
  },
  {
   "cell_type": "code",
   "execution_count": 1,
   "metadata": {},
   "outputs": [],
   "source": [
    "#Creo el tablero, las posiciones (agua) en el serán representadas por un string vacío \" \"\n",
    "import numpy as np\n",
    "import random\n",
    "\n",
    "class Hundir_flota:\n",
    "\n",
    "    \"\"\"\n",
    "    La clase hundir la flota representará un pequeño juego de mismo nombre\n",
    "    El juego consiste en emplazar barcos en el tablero y disparar hasta derribarlos todos\n",
    "    Su único atributo es el Tablero que empezará vacío representado por el string vacío \" \"\n",
    "    Las posiciones que sean ocupadas por barcos serán representadas por el string \"O\"\n",
    "    Para emplazar barcos se utilizará el metodo .ship()\n",
    "    Para realizar un disaparo se utilizará el método .disparo()\n",
    "    El jugador podran visualizar el estado del tablero con el método .mostrar_tablero()\n",
    "    Para reinciar el juego se utilizará el método reestablecer_tablero\n",
    "    \"\"\"\n",
    "\n",
    "    Tablero= np.full(100, \" \").reshape(10,10)\n",
    "    \n",
    "    def __init__(self, Jugador) -> None:\n",
    "        self.Jugador = Jugador\n",
    "        \n",
    "\n",
    "    def mostrar_tablero(self) -> None:\n",
    "        \"\"\"\n",
    "        Imprime por pantalla el tablero \n",
    "        \"\"\"   \n",
    "        print(f\"Tablero de {self.Jugador} \\n {self.Tablero}\")\n",
    "\n",
    "    def disparo(self, x:int, y:int, objetivo:object) -> np.array:\n",
    "   \n",
    "        \"\"\"\n",
    "        La función pide las coordenadas de la posición a la que se quiere disparar\n",
    "        Si el disparo da en agua esa posición cambiará a \"-\" y si acierta a un barco cambiará a \"X\"\n",
    "        La función también devolverá un mensaje en función de si el disparo ha acertado o no\n",
    "        \"\"\"\n",
    "        \n",
    "        if objetivo[x][y] == \"O\":\n",
    "            objetivo[x][y] = \"X\"\n",
    "            print(\"El disparo ha acertado\")\n",
    "        elif objetivo[x][y] == \"X\":\n",
    "            print(\"El disparo ha fallado\")\n",
    "        else:\n",
    "            objetivo[x][y] = \"-\"\n",
    "            print(\"El disparo ha fallado\")\n",
    "        return objetivo\n",
    "    \n",
    "    def reestablecer_tablero(self) -> np.array:\n",
    "\n",
    "        \"\"\"\n",
    "        Vacía el tablero\n",
    "        \"\"\"\n",
    "        self.Tablero = np.full(100, \" \").reshape(10,10)\n",
    "        return self.Tablero\n",
    "\n",
    "    def ship(self, size):\n",
    "\n",
    "        casilla_libre = True\n",
    "        \n",
    "        while casilla_libre == True:\n",
    "\n",
    "            orientacion = np.random.choice([\"N\", \"S\", \"O\", \"E\"])\n",
    "            x = random.randint(0,9)\n",
    "            y = random.randint(0,9)\n",
    "\n",
    "            try:\n",
    "                if orientacion == \"N\":\n",
    "                    if (x - size) -1 >= 0:\n",
    "                        casilla_libre = True\n",
    "                        for pos_f in range(size+1):\n",
    "                            if self.Tablero[x-pos_f, y] != \" \":\n",
    "                                casilla_libre == False\n",
    "                                break\n",
    "                            elif casilla_libre == True:\n",
    "                                self.Tablero[x:x-pos_f:-1, y] = \"O\"\n",
    "                                break\n",
    "                elif orientacion == \"S\":\n",
    "                    if (x + size) -1 <= 9:\n",
    "                        casilla_libre = True\n",
    "                        for pos_f in range(size+1):\n",
    "                            if self.Tablero[x+pos_f, y] != \" \":\n",
    "                                casilla_libre == False\n",
    "                                break\n",
    "                        if casilla_libre == True:\n",
    "                            self.Tablero[x:x+pos_f, y] = \"O\"\n",
    "                            break\n",
    "                elif orientacion == \"O\":\n",
    "                    if (y - size) -1 >= 0:\n",
    "                        casilla_libre = True\n",
    "                        for pos_f in range(size+1):\n",
    "                            if self.Tablero[x, y - pos_f] != \" \":\n",
    "                                casilla_libre == False\n",
    "                                break\n",
    "                        if casilla_libre == True:\n",
    "                            self.Tablero[x, y:y-pos_f:-1] = \"O\"\n",
    "                            break\n",
    "                elif orientacion == \"E\":\n",
    "                    if (y + size) -1 <= 9:\n",
    "                        casilla_libre = True\n",
    "                        for pos_f in range(size+1):\n",
    "                            if self.Tablero[x, y + pos_f] != \" \":\n",
    "                                casilla_libre == False\n",
    "                                break\n",
    "                        if casilla_libre == True:\n",
    "                            self.Tablero[x, y:y+pos_f] = \"O\"\n",
    "                            break\n",
    "            except:\n",
    "                pass\n",
    "\n",
    "        return self.Tablero"
   ]
  },
  {
   "cell_type": "code",
   "execution_count": 3,
   "metadata": {},
   "outputs": [
    {
     "name": "stdout",
     "output_type": "stream",
     "text": [
      "Tablero de Jugador 1 \n",
      " [[' ' ' ' ' ' ' ' ' ' ' ' ' ' ' ' ' ' ' ']\n",
      " [' ' ' ' ' ' ' ' ' ' ' ' ' ' ' ' ' ' ' ']\n",
      " [' ' ' ' ' ' ' ' ' ' ' ' ' ' ' ' ' ' ' ']\n",
      " [' ' ' ' ' ' ' ' ' ' ' ' ' ' ' ' ' ' ' ']\n",
      " [' ' ' ' ' ' ' ' ' ' ' ' ' ' ' ' ' ' ' ']\n",
      " [' ' ' ' ' ' ' ' ' ' ' ' ' ' ' ' ' ' ' ']\n",
      " [' ' ' ' ' ' ' ' ' ' ' ' ' ' ' ' ' ' ' ']\n",
      " [' ' ' ' ' ' ' ' ' ' ' ' ' ' ' ' ' ' ' ']\n",
      " [' ' ' ' ' ' ' ' ' ' ' ' ' ' ' ' ' ' ' ']\n",
      " [' ' ' ' ' ' ' ' ' ' ' ' ' ' ' ' ' ' ' ']]\n",
      "Tablero de Jugador 2 \n",
      " [[' ' ' ' ' ' ' ' ' ' ' ' ' ' ' ' ' ' ' ']\n",
      " [' ' ' ' ' ' ' ' ' ' ' ' ' ' ' ' ' ' ' ']\n",
      " [' ' ' ' ' ' ' ' ' ' ' ' ' ' ' ' ' ' ' ']\n",
      " [' ' ' ' ' ' ' ' ' ' ' ' ' ' ' ' ' ' ' ']\n",
      " [' ' ' ' ' ' ' ' ' ' ' ' ' ' ' ' ' ' ' ']\n",
      " [' ' ' ' ' ' ' ' ' ' ' ' ' ' ' ' ' ' ' ']\n",
      " [' ' ' ' ' ' ' ' ' ' ' ' ' ' ' ' ' ' ' ']\n",
      " [' ' ' ' ' ' ' ' ' ' ' ' ' ' ' ' ' ' ' ']\n",
      " [' ' ' ' ' ' ' ' ' ' ' ' ' ' ' ' ' ' ' ']\n",
      " [' ' ' ' ' ' ' ' ' ' ' ' ' ' ' ' ' ' ' ']]\n"
     ]
    }
   ],
   "source": [
    "# Creo el tablero\n",
    "P1 = Hundir_flota(\"Jugador 1\")\n",
    "P1.mostrar_tablero()\n",
    "P2 = Hundir_flota(\"Jugador 2\")\n",
    "P2.mostrar_tablero()"
   ]
  },
  {
   "cell_type": "code",
   "execution_count": 4,
   "metadata": {},
   "outputs": [
    {
     "name": "stdout",
     "output_type": "stream",
     "text": [
      "El disparo ha fallado\n",
      "El disparo ha fallado\n",
      "Tablero de Jugador 1 \n",
      " [[' ' ' ' ' ' ' ' ' ' ' ' ' ' ' ' ' ' ' ']\n",
      " [' ' ' ' ' ' ' ' ' ' ' ' ' ' '-' ' ' ' ']\n",
      " [' ' ' ' ' ' ' ' '-' ' ' ' ' ' ' ' ' ' ']\n",
      " [' ' ' ' ' ' ' ' ' ' ' ' ' ' ' ' ' ' ' ']\n",
      " [' ' ' ' ' ' ' ' ' ' ' ' ' ' ' ' ' ' ' ']\n",
      " [' ' ' ' ' ' ' ' ' ' ' ' ' ' ' ' ' ' ' ']\n",
      " [' ' ' ' ' ' ' ' ' ' ' ' ' ' ' ' ' ' ' ']\n",
      " [' ' ' ' ' ' ' ' ' ' ' ' ' ' ' ' ' ' ' ']\n",
      " [' ' ' ' ' ' ' ' ' ' ' ' ' ' ' ' ' ' ' ']\n",
      " [' ' ' ' ' ' ' ' ' ' ' ' ' ' ' ' ' ' ' ']]\n",
      "Tablero de Jugador 2 \n",
      " [[' ' ' ' ' ' ' ' ' ' ' ' ' ' ' ' ' ' ' ']\n",
      " [' ' ' ' ' ' ' ' ' ' ' ' ' ' '-' ' ' ' ']\n",
      " [' ' ' ' ' ' ' ' '-' ' ' ' ' ' ' ' ' ' ']\n",
      " [' ' ' ' ' ' ' ' ' ' ' ' ' ' ' ' ' ' ' ']\n",
      " [' ' ' ' ' ' ' ' ' ' ' ' ' ' ' ' ' ' ' ']\n",
      " [' ' ' ' ' ' ' ' ' ' ' ' ' ' ' ' ' ' ' ']\n",
      " [' ' ' ' ' ' ' ' ' ' ' ' ' ' ' ' ' ' ' ']\n",
      " [' ' ' ' ' ' ' ' ' ' ' ' ' ' ' ' ' ' ' ']\n",
      " [' ' ' ' ' ' ' ' ' ' ' ' ' ' ' ' ' ' ' ']\n",
      " [' ' ' ' ' ' ' ' ' ' ' ' ' ' ' ' ' ' ' ']]\n"
     ]
    }
   ],
   "source": [
    "P1.disparo(1,7,P2.Tablero)\n",
    "P2.disparo(2,4,P1.Tablero)\n",
    "P1.mostrar_tablero()\n",
    "P2.mostrar_tablero()"
   ]
  },
  {
   "cell_type": "code",
   "execution_count": 5,
   "metadata": {},
   "outputs": [
    {
     "name": "stdout",
     "output_type": "stream",
     "text": [
      "El disparo ha fallado\n",
      "Tablero de Jugador 1 \n",
      " [[' ' ' ' ' ' ' ' ' ' ' ' ' ' ' ' ' ' ' ']\n",
      " [' ' ' ' ' ' ' ' ' ' ' ' ' ' ' ' ' ' ' ']\n",
      " [' ' ' ' ' ' ' ' ' ' ' ' ' ' ' ' ' ' ' ']\n",
      " [' ' ' ' ' ' ' ' ' ' ' ' ' ' ' ' ' ' ' ']\n",
      " [' ' ' ' ' ' ' ' ' ' '-' ' ' ' ' ' ' ' ']\n",
      " [' ' ' ' ' ' ' ' ' ' ' ' ' ' ' ' ' ' ' ']\n",
      " [' ' ' ' ' ' ' ' ' ' ' ' ' ' ' ' ' ' ' ']\n",
      " [' ' ' ' ' ' ' ' ' ' ' ' ' ' ' ' ' ' ' ']\n",
      " [' ' ' ' ' ' ' ' ' ' ' ' ' ' ' ' ' ' ' ']\n",
      " [' ' ' ' ' ' ' ' ' ' ' ' ' ' ' ' ' ' ' ']]\n"
     ]
    }
   ],
   "source": [
    "P1.reestablecer_tablero()\n",
    "P2.disparo(4,5,P1.Tablero)\n",
    "P1.mostrar_tablero()"
   ]
  },
  {
   "cell_type": "code",
   "execution_count": 6,
   "metadata": {},
   "outputs": [
    {
     "name": "stdout",
     "output_type": "stream",
     "text": [
      "Tablero de Jugador 1 \n",
      " [[' ' ' ' 'O' 'O' ' ' ' ' ' ' ' ' ' ' ' ']\n",
      " [' ' ' ' ' ' ' ' ' ' ' ' ' ' ' ' ' ' ' ']\n",
      " [' ' ' ' 'O' 'O' 'O' 'O' ' ' ' ' ' ' ' ']\n",
      " [' ' ' ' ' ' ' ' ' ' 'O' ' ' ' ' ' ' ' ']\n",
      " [' ' ' ' ' ' ' ' ' ' 'O' ' ' ' ' ' ' ' ']\n",
      " [' ' ' ' ' ' ' ' ' ' 'O' ' ' ' ' ' ' ' ']\n",
      " [' ' ' ' ' ' ' ' ' ' 'O' ' ' ' ' ' ' ' ']\n",
      " [' ' ' ' ' ' ' ' ' ' 'O' ' ' ' ' ' ' ' ']\n",
      " [' ' 'O' 'O' 'O' 'O' ' ' ' ' ' ' ' ' ' ']\n",
      " [' ' ' ' ' ' ' ' ' ' ' ' ' ' ' ' ' ' ' ']]\n",
      "Tablero de Jugador 2 \n",
      " [[' ' ' ' 'O' 'O' 'O' ' ' ' ' ' ' ' ' ' ']\n",
      " [' ' ' ' ' ' ' ' ' ' ' ' ' ' ' ' ' ' 'O']\n",
      " [' ' ' ' ' ' ' ' ' ' ' ' ' ' ' ' ' ' 'O']\n",
      " [' ' ' ' ' ' ' ' ' ' ' ' ' ' ' ' ' ' 'O']\n",
      " [' ' ' ' ' ' ' ' ' ' ' ' ' ' ' ' ' ' 'O']\n",
      " [' ' ' ' ' ' ' ' ' ' ' ' ' ' ' ' ' ' ' ']\n",
      " [' ' ' ' 'O' 'O' ' ' ' ' ' ' ' ' ' ' ' ']\n",
      " [' ' ' ' ' ' 'O' 'O' 'O' 'O' 'O' ' ' ' ']\n",
      " [' ' ' ' ' ' ' ' ' ' ' ' ' ' ' ' ' ' ' ']\n",
      " [' ' ' ' ' ' ' ' ' ' ' ' ' ' ' ' ' ' ' ']]\n"
     ]
    }
   ],
   "source": [
    "P1.reestablecer_tablero()\n",
    "P1.ship(2)\n",
    "P1.ship(3)\n",
    "P1.ship(4)\n",
    "P1.ship(5)\n",
    "P1.ship(6)\n",
    "P1.mostrar_tablero()\n",
    "\n",
    "P2.reestablecer_tablero()\n",
    "P2.ship(2)\n",
    "P2.ship(3)\n",
    "P2.ship(4)\n",
    "P2.ship(5)\n",
    "P2.ship(6)\n",
    "P2.mostrar_tablero()"
   ]
  },
  {
   "cell_type": "code",
   "execution_count": 23,
   "metadata": {},
   "outputs": [
    {
     "name": "stdout",
     "output_type": "stream",
     "text": [
      "El disparo ha acertado\n"
     ]
    },
    {
     "data": {
      "text/plain": [
       "array([[' ', ' ', 'O', 'X', 'O', ' ', ' ', ' ', ' ', ' '],\n",
       "       [' ', ' ', ' ', ' ', ' ', ' ', ' ', ' ', ' ', 'O'],\n",
       "       [' ', ' ', ' ', ' ', ' ', ' ', ' ', ' ', ' ', 'O'],\n",
       "       [' ', ' ', ' ', ' ', ' ', ' ', ' ', ' ', ' ', 'O'],\n",
       "       [' ', ' ', ' ', ' ', ' ', ' ', ' ', ' ', ' ', 'O'],\n",
       "       [' ', ' ', ' ', ' ', ' ', ' ', ' ', ' ', ' ', ' '],\n",
       "       [' ', ' ', 'O', 'O', ' ', ' ', ' ', ' ', ' ', ' '],\n",
       "       [' ', ' ', ' ', 'O', 'O', 'O', 'O', 'O', ' ', ' '],\n",
       "       [' ', ' ', ' ', ' ', ' ', ' ', ' ', ' ', ' ', ' '],\n",
       "       [' ', ' ', ' ', ' ', ' ', ' ', ' ', ' ', ' ', ' ']], dtype='<U1')"
      ]
     },
     "execution_count": 23,
     "metadata": {},
     "output_type": "execute_result"
    }
   ],
   "source": [
    "P1.disparo(0,3,P2.Tablero)"
   ]
  },
  {
   "cell_type": "code",
   "execution_count": 29,
   "metadata": {},
   "outputs": [
    {
     "name": "stdout",
     "output_type": "stream",
     "text": [
      "Tablero de Jugador 2 \n",
      " [['-' '-' 'X' 'X' 'X' '-' '-' ' ' '-' ' ']\n",
      " ['-' '-' '-' '-' '-' '-' '-' '-' '-' 'X']\n",
      " ['-' '-' '-' '-' ' ' '-' '-' '-' ' ' 'X']\n",
      " ['-' '-' '-' '-' '-' '-' ' ' '-' ' ' 'X']\n",
      " ['-' '-' '-' '-' ' ' '-' '-' '-' '-' 'X']\n",
      " ['-' '-' '-' '-' '-' '-' ' ' '-' '-' '-']\n",
      " ['-' '-' 'X' 'X' ' ' '-' '-' ' ' '-' '-']\n",
      " ['-' '-' '-' 'X' 'X' 'X' 'X' 'X' '-' '-']\n",
      " ['-' '-' '-' '-' '-' '-' '-' '-' '-' '-']\n",
      " [' ' ' ' '-' '-' '-' '-' '-' '-' '-' '-']]\n"
     ]
    }
   ],
   "source": [
    "import random\n",
    "while np.any(P2.Tablero == \"O\"):\n",
    "    P1.disparo(random.randint(0,9), random.randint(0,9), P2.Tablero)\n",
    "\n",
    "P2.mostrar_tablero()"
   ]
  }
 ],
 "metadata": {
  "kernelspec": {
   "display_name": "este",
   "language": "python",
   "name": "python3"
  },
  "language_info": {
   "codemirror_mode": {
    "name": "ipython",
    "version": 3
   },
   "file_extension": ".py",
   "mimetype": "text/x-python",
   "name": "python",
   "nbconvert_exporter": "python",
   "pygments_lexer": "ipython3",
   "version": "3.11.5"
  }
 },
 "nbformat": 4,
 "nbformat_minor": 2
}
