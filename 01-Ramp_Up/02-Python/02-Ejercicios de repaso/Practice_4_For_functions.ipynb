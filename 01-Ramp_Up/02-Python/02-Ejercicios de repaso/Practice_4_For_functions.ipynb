{
 "cells": [
  {
   "cell_type": "markdown",
   "metadata": {},
   "source": [
    "# Python | day 4 | for loop, functions (feat. basics & if/else) "
   ]
  },
  {
   "cell_type": "markdown",
   "metadata": {},
   "source": [
    "### Ejercicio 0.1 - Conceptos básicos de Python\n",
    "\n",
    "1. ¿Qué usamos para hacer un salto de línea en una impresión? ¿Y para un tabulador?"
   ]
  },
  {
   "cell_type": "code",
   "execution_count": 8,
   "metadata": {},
   "outputs": [
    {
     "name": "stdout",
     "output_type": "stream",
     "text": [
      "para salto \n",
      " de línea\n"
     ]
    }
   ],
   "source": [
    "print(\"para salto \\n de línea\")"
   ]
  },
  {
   "cell_type": "code",
   "execution_count": 9,
   "metadata": {},
   "outputs": [
    {
     "name": "stdout",
     "output_type": "stream",
     "text": [
      "para \t tabulación\n"
     ]
    }
   ],
   "source": [
    "print(\"para \\t tabulación\")"
   ]
  },
  {
   "cell_type": "markdown",
   "metadata": {},
   "source": [
    "2. Haz un conversor de dólares a euros. Tendrás que utilizar la entrada"
   ]
  },
  {
   "cell_type": "code",
   "execution_count": 10,
   "metadata": {},
   "outputs": [],
   "source": [
    "dollar_euro = float(input(\"Introduzca montante\"))*0.94"
   ]
  },
  {
   "cell_type": "markdown",
   "metadata": {},
   "source": [
    "3. Declara dos cadenas, una será tu nombre y la otra tu apellido. Declara tu edad en otra variable. Imprime una sentencia que incluya esas variables, usando ```f{}``. ¿Qué es eso?"
   ]
  },
  {
   "cell_type": "code",
   "execution_count": 11,
   "metadata": {},
   "outputs": [
    {
     "name": "stdout",
     "output_type": "stream",
     "text": [
      "camilo prieto\n"
     ]
    }
   ],
   "source": [
    "nombre = \"camilo\"\n",
    "apellido = \"prieto\"\n",
    "\n",
    "#Esto es un format\n",
    "print(f\"{nombre} {apellido}\")"
   ]
  },
  {
   "cell_type": "markdown",
   "metadata": {},
   "source": [
    "4. Dada la lista `[4,7, -3]`, calcula su máximo, mínimo y suma."
   ]
  },
  {
   "cell_type": "code",
   "execution_count": 12,
   "metadata": {},
   "outputs": [
    {
     "data": {
      "text/plain": [
       "8"
      ]
     },
     "execution_count": 12,
     "metadata": {},
     "output_type": "execute_result"
    }
   ],
   "source": [
    "min([4,7, -3])\n",
    "max([4,7, -3])\n",
    "sum([4,7, -3])"
   ]
  },
  {
   "cell_type": "markdown",
   "metadata": {},
   "source": [
    "5. Redondea `38.38276252728` a 5 decimales.\n"
   ]
  },
  {
   "cell_type": "code",
   "execution_count": 14,
   "metadata": {},
   "outputs": [
    {
     "data": {
      "text/plain": [
       "38.38276"
      ]
     },
     "execution_count": 14,
     "metadata": {},
     "output_type": "execute_result"
    }
   ],
   "source": [
    "round(38.38276252728, 5)"
   ]
  },
  {
   "cell_type": "markdown",
   "metadata": {},
   "source": [
    "6. Pon la frase \"Born to be wild\" en mayúsculas, luego en minúsculas, divídela por espacios y, por último, sustituye \"wild\" por \"Geek\"."
   ]
  },
  {
   "cell_type": "code",
   "execution_count": 15,
   "metadata": {},
   "outputs": [
    {
     "name": "stdout",
     "output_type": "stream",
     "text": [
      "BORN TO BE WILD\n",
      "born to be wild\n",
      "['Born', 'to', 'be', 'wild']\n",
      "Bornwildtowildbewildwild\n",
      "BornGeektoGeekbeGeekwild\n"
     ]
    }
   ],
   "source": [
    "print(\"Born to be Wild\".upper())\n",
    "print(\"Born to be wild\".lower())\n",
    "print(\"Born to be wild\".split(\" \"))\n",
    "print(\"Born to be wild\".replace(\" \", \"wild\"))\n",
    "print(\"Born to be wild\".replace(\" \", \"Geek\"))"
   ]
  },
  {
   "cell_type": "markdown",
   "metadata": {},
   "source": [
    "7. Crea un programa en el que se recojan dos entradas, y la salida del programa sea un booleano que indique al usuario si esas entradas son iguales o no.\n"
   ]
  },
  {
   "cell_type": "code",
   "execution_count": 16,
   "metadata": {},
   "outputs": [
    {
     "data": {
      "text/plain": [
       "True"
      ]
     },
     "execution_count": 16,
     "metadata": {},
     "output_type": "execute_result"
    }
   ],
   "source": [
    "input() == input()\n"
   ]
  },
  {
   "cell_type": "markdown",
   "metadata": {},
   "source": [
    "### Ejercicio 0.2 - If/else\n",
    "\n",
    "1. Crea un árbol de decisión utilizando sentencias if/else, para determinar el precio de la entrada al cine. Si la edad del cliente está entre 5 y 15 años, ambos incluidos, el precio será de 5, si es jubilado y la película es una de las `peliculas_descuento`, el precio será de 4. En cualquier otro caso, será de 7 euros.\n",
    "\n",
    "Debes crear la lista de `peliculas_discount` con tus películas favoritas."
   ]
  },
  {
   "cell_type": "code",
   "execution_count": 22,
   "metadata": {},
   "outputs": [
    {
     "name": "stdout",
     "output_type": "stream",
     "text": [
      "5\n"
     ]
    }
   ],
   "source": [
    "edad_espectador = int(input(\"Introduzca su edad\"))\n",
    "pelicula = input(\"¿Que película desea ver?\")\n",
    "peliculas_descuento = [\"2001\", \"Atrapame si puedes\", \"The End Of Evangelion\", \"Bad Moms\", \"Freaky Friday\"]\n",
    "\n",
    "if edad_espectador >= 5 and edad_espectador <= 15:\n",
    "    precio = 4\n",
    "elif edad_espectador >= 65 and (pelicula in peliculas_descuento):\n",
    "    precio = 5\n",
    "else:\n",
    "    precio = 7\n",
    "\n",
    "print(precio)"
   ]
  },
  {
   "cell_type": "markdown",
   "metadata": {},
   "source": [
    "### Ejercicio 1 - Para\n",
    "\n",
    "Si encuentras una forma de resolver alguna de estas preguntas sin utilizar el bucle for, no dudes en hacerlo."
   ]
  },
  {
   "cell_type": "markdown",
   "metadata": {},
   "source": [
    "1. Imprime los números entre 0 y 70 que son múltiplos de 3 y 5."
   ]
  },
  {
   "cell_type": "code",
   "execution_count": 26,
   "metadata": {},
   "outputs": [
    {
     "name": "stdout",
     "output_type": "stream",
     "text": [
      "[3, 6, 9, 12, 18, 21, 24, 27, 33, 36, 39, 42, 48, 51, 54, 57, 63, 66, 69]\n"
     ]
    }
   ],
   "source": [
    "print([x for x in range(71) if x % 3 == 0 and x % 5])\n"
   ]
  },
  {
   "cell_type": "markdown",
   "metadata": {},
   "source": [
    "2. Imprime el siguiente patrón:\n",
    "\n",
    "```python\n",
    "1\n",
    "22\n",
    "333\n",
    "4444\n",
    "55555\n",
    "666666\n",
    "7777777\n",
    "88888888\n",
    "999999999\n",
    "```\n"
   ]
  },
  {
   "cell_type": "code",
   "execution_count": 71,
   "metadata": {},
   "outputs": [
    {
     "name": "stdout",
     "output_type": "stream",
     "text": [
      "1\n",
      "1 2\n",
      "1 2 3\n",
      "1 2 3 4\n",
      "1 2 3 4 5\n",
      "1 2 3 4 5 6\n",
      "1 2 3 4 5 6 7\n",
      "1 2 3 4 5 6 7 8\n"
     ]
    }
   ],
   "source": [
    "patron = [1]\n",
    "\n",
    "for p in patron:\n",
    "    if p == 9:\n",
    "        break\n",
    "    print(*patron)\n",
    "    p = p + 1\n",
    "\n",
    "    patron.append(p)\n",
    "   "
   ]
  },
  {
   "cell_type": "code",
   "execution_count": 59,
   "metadata": {},
   "outputs": [
    {
     "name": "stdout",
     "output_type": "stream",
     "text": [
      "[1, 2, 3, 4, 5]\n"
     ]
    }
   ],
   "source": [
    "r = list(range(5))\n",
    "\n",
    "for z in r:\n",
    "    acumulador =  z + 1\n",
    "    r[z] = acumulador\n",
    "print(r)"
   ]
  },
  {
   "cell_type": "markdown",
   "metadata": {
    "collapsed": true
   },
   "source": [
    "3. Dadas dos listas de la misma longitud, crear una tercera lista que contenga la suma de ambas, elemento a elemento."
   ]
  },
  {
   "cell_type": "markdown",
   "metadata": {},
   "source": [
    "```python\n",
    "Example: \n",
    "a = [1,2]\n",
    "b = [4,5]\n",
    "new_list = [5,7]\n",
    "```\n"
   ]
  },
  {
   "cell_type": "code",
   "execution_count": 93,
   "metadata": {},
   "outputs": [
    {
     "name": "stdout",
     "output_type": "stream",
     "text": [
      "[0, 1]\n",
      "[1, 2]\n",
      "[3, 1]\n"
     ]
    }
   ],
   "source": [
    "a = list(range(1,3))\n",
    "b = list(range(2) )\n",
    "print(b)\n",
    "print(a)\n",
    "\n",
    "ab = []\n",
    "\n",
    "for x, y in a, b:\n",
    "    c = x + y\n",
    "    ab.append(c)\n",
    "\n",
    "print(ab)"
   ]
  },
  {
   "cell_type": "markdown",
   "metadata": {},
   "source": [
    "4. Obtenga la primera y la segunda mejor puntuación de la lista.\n",
    "La lista contiene duplicados."
   ]
  },
  {
   "cell_type": "code",
   "execution_count": null,
   "metadata": {},
   "outputs": [],
   "source": [
    "scores = [86,86,85,85,85,83,23,45,84,1,2,0]"
   ]
  },
  {
   "cell_type": "code",
   "execution_count": null,
   "metadata": {},
   "outputs": [],
   "source": []
  },
  {
   "cell_type": "markdown",
   "metadata": {},
   "source": [
    "5. De la lista dada:\n",
    "    \n",
    "    a) Crea listas separadas de cadenas y números.\n",
    "\n",
    "    b) Ordena la lista de cadenas en orden ascendente.\n",
    "\n",
    "    c) Ordena la lista de cadenas en orden descendente\n",
    "\n",
    "    d) Ordenar la lista de números de menor a mayor\n",
    "\n",
    "    e) Ordenar la lista de números de mayor a menor"
   ]
  },
  {
   "cell_type": "code",
   "execution_count": 3,
   "metadata": {},
   "outputs": [],
   "source": [
    "gadgets = [\"Mobile\", \"Laptop\", 100, \"Camera\", 310.28, \"Speakers\", 27.00, \n",
    "           \"Television\", 1000, \"Laptop Case\", \"Camera Lens\"]"
   ]
  },
  {
   "cell_type": "code",
   "execution_count": null,
   "metadata": {},
   "outputs": [],
   "source": []
  },
  {
   "cell_type": "markdown",
   "metadata": {},
   "source": [
    "6. Haz una lista de diez alienígenas, cada uno de los cuales es de un color: 'rojo', 'verde' o 'azul'.\n",
    "    - Puedes acortarlo a 'r', 'g' y 'b' si quieres, pero si eliges esta opción tienes que incluir un comentario explicando qué significan r, g y b.\n",
    "    - Los alienígenas rojos valen 5 puntos, los verdes valen 10 puntos y los azules valen 20 puntos.\n",
    "    - Utilice un bucle for para determinar el número de puntos que ganaría un jugador por destruir todos los alienígenas de su lista."
   ]
  },
  {
   "cell_type": "code",
   "execution_count": null,
   "metadata": {},
   "outputs": [],
   "source": []
  },
  {
   "cell_type": "markdown",
   "metadata": {},
   "source": [
    "### Ejercicio 2 - Funciones"
   ]
  },
  {
   "cell_type": "markdown",
   "metadata": {},
   "source": [
    "1. Escribe un programa de funciones para sumar dos números diferentes dados."
   ]
  },
  {
   "cell_type": "code",
   "execution_count": null,
   "metadata": {},
   "outputs": [],
   "source": []
  },
  {
   "cell_type": "markdown",
   "metadata": {},
   "source": [
    "2. Escribe un programa en Python para convertir una tupla de caracteres en una cadena.\n",
    "\n",
    "    - Ejemplo de tupla: `(\"T\", \"H\", \"E\", \" \", \"B\", \"R\", \"I\", \"D\", \"G\", \"E\")`\n",
    "    - Salida esperada : `\"EL PUENTE\"`\n",
    "    \n",
    "Sugerencia: Conviértalo en una lista."
   ]
  },
  {
   "cell_type": "code",
   "execution_count": null,
   "metadata": {},
   "outputs": [],
   "source": []
  },
  {
   "cell_type": "markdown",
   "metadata": {},
   "source": [
    "3. Escribe un programa en Python que genere una lista cuyos valores sean cuadrados de números entre 1 y 30 (ambos incluidos), y devuelva una lista con los 5 primeros y últimos elementos de la lista."
   ]
  },
  {
   "cell_type": "code",
   "execution_count": null,
   "metadata": {},
   "outputs": [],
   "source": []
  },
  {
   "cell_type": "markdown",
   "metadata": {},
   "source": [
    "4. Crea un programa en Python que calcule el factorial de un número.\n",
    "\n",
    "El programa pedirá al usuario que introduzca un número (entrada) y devolverá el factorial de ese número."
   ]
  },
  {
   "cell_type": "code",
   "execution_count": null,
   "metadata": {},
   "outputs": [],
   "source": []
  },
  {
   "cell_type": "markdown",
   "metadata": {},
   "source": [
    "5. Crea un programa que calcule la media.\n",
    "\n",
    "El programa pedirá al usuario que especifique cuántos números quiere introducir, y mostrará un aviso para incluir número a número a una lista, y luego calculará la media de cada número de esa lista."
   ]
  },
  {
   "cell_type": "code",
   "execution_count": null,
   "metadata": {},
   "outputs": [],
   "source": []
  }
 ],
 "metadata": {
  "kernelspec": {
   "display_name": "Python 3",
   "language": "python",
   "name": "python3"
  },
  "language_info": {
   "codemirror_mode": {
    "name": "ipython",
    "version": 3
   },
   "file_extension": ".py",
   "mimetype": "text/x-python",
   "name": "python",
   "nbconvert_exporter": "python",
   "pygments_lexer": "ipython3",
   "version": "3.11.5"
  }
 },
 "nbformat": 4,
 "nbformat_minor": 4
}
