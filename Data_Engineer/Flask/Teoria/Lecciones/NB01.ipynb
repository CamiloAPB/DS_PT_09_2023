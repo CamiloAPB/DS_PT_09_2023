{
 "cells": [
  {
   "attachments": {},
   "cell_type": "markdown",
   "metadata": {},
   "source": [
    "# Entorno Virtual"
   ]
  },
  {
   "attachments": {},
   "cell_type": "markdown",
   "metadata": {},
   "source": [
    "El entorno de tu programa es todo aquello que debe estar accesible para que se ejecute correctamente. Existen diversas acciones que podemos llevar a cabo para configurar y mantener el entorno de nuestra aplicación. Este capítulo se enfoca en ese aspecto.\n",
    "\n",
    "Al instalar paquetes de forma privada sin afectar al intérprete de Python ya instalado en tu sistema, puedes hacerlo dentro de un entorno virtual, el cual es una duplicación del intérprete de Python.\n",
    "\n",
    "Los entornos virtuales resultan muy útiles, ya que evitan que el intérprete de Python del sistema se vea sobrecargado con paquetes y versiones que no coinciden. Mediante la configuración de un entorno virtual para cada proyecto, puedes asegurarte de que las aplicaciones solo tengan acceso a los paquetes que necesitan. Esto te permite crear múltiples entornos virtuales y mantener el intérprete global limpio. Además, dado que los entornos virtuales pueden ser creados y operados sin necesidad de privilegios de administrador, superan al intérprete Python del sistema en su funcionalidad."
   ]
  },
  {
   "attachments": {},
   "cell_type": "markdown",
   "metadata": {},
   "source": [
    "## Utilice virtualenv para gestionar su entorno"
   ]
  },
  {
   "attachments": {},
   "cell_type": "markdown",
   "metadata": {},
   "source": [
    "Virtualenv es un programa que aísla cualquier aplicación que estés desarrollando en un entorno virtual. Un entorno virtual implica que todo el software en el que tu programa depende se almacena en una única carpeta. Esto significa que el software solo es utilizable por tu aplicación.\n",
    "\n",
    "El intérprete de Python es un tipo de entorno virtual, una copia. Al instalar paquetes en un entorno virtual, no tiene ningún impacto en el intérprete de Python utilizado por todo el sistema, solo afecta a la copia. Por lo tanto, crear una máquina virtual separada para cada aplicación es la mejor manera de asegurar que puedas instalar cualquier versión de tus paquetes. Además, los entornos virtuales no requieren una cuenta de administrador, ya que son propiedad del usuario que los crea.\n",
    "\n",
    "En lugar de utilizar directorios de paquetes para todo el sistema o para todo el usuario, podemos descargarlos en una carpeta independiente y dedicada a nuestra aplicación. Para cada proyecto, podemos elegir la versión de Python que deseamos utilizar y qué dependencias queremos tener disponibles. Con Virtualenv, es posible cambiar entre varias versiones del mismo paquete.\n",
    "\n",
    "Este tipo de escalabilidad puede ser crucial cuando se trabaja en un sistema antiguo con múltiples proyectos que requieren diferentes versiones de software. Como resultado de usar virtualenv, estarás limitado a un número reducido de paquetes Python en tu máquina, y virtualenv será uno de ellos. Pip se puede utilizar para instalar virtualenv.\n",
    "\n",
    "Los entornos virtuales pueden crearse tan pronto como tengas virtualenv instalado en tu ordenador. Ejecuta el comando virtualenv en el directorio de tu proyecto para comenzar. El único parámetro requerido es el directorio de destino del entorno virtual."
   ]
  },
  {
   "attachments": {},
   "cell_type": "markdown",
   "metadata": {},
   "source": [
    ">pip install vitualenv"
   ]
  },
  {
   "cell_type": "code",
   "execution_count": 1,
   "metadata": {},
   "outputs": [
    {
     "name": "stdout",
     "output_type": "stream",
     "text": [
      "Package                   Version\n",
      "------------------------- -----------\n",
      "altair                    5.2.0\n",
      "asttokens                 2.4.1\n",
      "attrs                     23.2.0\n",
      "blinker                   1.7.0\n",
      "cachetools                5.3.3\n",
      "certifi                   2024.2.2\n",
      "charset-normalizer        3.3.2\n",
      "click                     8.1.7\n",
      "colorama                  0.4.6\n",
      "comm                      0.2.2\n",
      "contourpy                 1.2.0\n",
      "cycler                    0.12.1\n",
      "debugpy                   1.8.1\n",
      "decorator                 5.1.1\n",
      "executing                 2.0.1\n",
      "fonttools                 4.50.0\n",
      "gitdb                     4.0.11\n",
      "GitPython                 3.1.42\n",
      "idna                      3.6\n",
      "ipykernel                 6.29.3\n",
      "ipython                   8.22.2\n",
      "jedi                      0.19.1\n",
      "Jinja2                    3.1.3\n",
      "jsonschema                4.21.1\n",
      "jsonschema-specifications 2023.12.1\n",
      "jupyter_client            8.6.1\n",
      "jupyter_core              5.7.2\n",
      "kiwisolver                1.4.5\n",
      "markdown-it-py            3.0.0\n",
      "MarkupSafe                2.1.5\n",
      "matplotlib                3.8.3\n",
      "matplotlib-inline         0.1.6\n",
      "mdurl                     0.1.2\n",
      "nest-asyncio              1.6.0\n",
      "numpy                     1.26.4\n",
      "packaging                 23.2\n",
      "pandas                    2.2.1\n",
      "parso                     0.8.3\n",
      "patsy                     0.5.6\n",
      "pillow                    10.2.0\n",
      "pip                       24.0\n",
      "platformdirs              4.2.0\n",
      "plotly                    5.20.0\n",
      "plotly-express            0.4.1\n",
      "prompt-toolkit            3.0.43\n",
      "protobuf                  4.25.3\n",
      "psutil                    5.9.8\n",
      "pure-eval                 0.2.2\n",
      "pyarrow                   15.0.1\n",
      "pydeck                    0.8.1b0\n",
      "Pygments                  2.17.2\n",
      "pyparsing                 3.1.2\n",
      "python-dateutil           2.9.0.post0\n",
      "pytz                      2024.1\n",
      "pywin32                   306\n",
      "pyzmq                     25.1.2\n",
      "referencing               0.34.0\n",
      "requests                  2.31.0\n",
      "rich                      13.7.1\n",
      "rpds-py                   0.18.0\n",
      "scipy                     1.12.0\n",
      "seaborn                   0.13.2\n",
      "six                       1.16.0\n",
      "smmap                     5.0.1\n",
      "stack-data                0.6.3\n",
      "statsmodels               0.14.1\n",
      "streamlit                 1.32.2\n",
      "tenacity                  8.2.3\n",
      "toml                      0.10.2\n",
      "toolz                     0.12.1\n",
      "tornado                   6.4\n",
      "traitlets                 5.14.2\n",
      "typing_extensions         4.10.0\n",
      "tzdata                    2024.1\n",
      "urllib3                   2.2.1\n",
      "watchdog                  4.0.0\n",
      "wcwidth                   0.2.13\n"
     ]
    }
   ],
   "source": [
    "!pip list"
   ]
  },
  {
   "attachments": {},
   "cell_type": "markdown",
   "metadata": {},
   "source": [
    "Sí esto te genera algún problema podemos utilizar también la librería venv de python"
   ]
  },
  {
   "attachments": {},
   "cell_type": "markdown",
   "metadata": {},
   "source": [
    "## Install virtualenvwrapper"
   ]
  },
  {
   "attachments": {},
   "cell_type": "markdown",
   "metadata": {},
   "source": [
    "Virtualenvwrapper es un paquete que te permite gestionar los entornos virtuales creados con virtualenv. Para instalar el wrapper virtual y utilizarlo en tus proyectos Flask, puedes ejecutar la siguiente línea:"
   ]
  },
  {
   "cell_type": "code",
   "execution_count": 2,
   "metadata": {},
   "outputs": [
    {
     "name": "stdout",
     "output_type": "stream",
     "text": [
      "Collecting virtualenvwrapper-win\n",
      "  Downloading virtualenvwrapper_win-1.2.7-py3-none-any.whl.metadata (10 kB)\n",
      "Collecting virtualenv (from virtualenvwrapper-win)\n",
      "  Downloading virtualenv-20.25.1-py3-none-any.whl.metadata (4.4 kB)\n",
      "Collecting distlib<1,>=0.3.7 (from virtualenv->virtualenvwrapper-win)\n",
      "  Downloading distlib-0.3.8-py2.py3-none-any.whl.metadata (5.1 kB)\n",
      "Collecting filelock<4,>=3.12.2 (from virtualenv->virtualenvwrapper-win)\n",
      "  Using cached filelock-3.13.1-py3-none-any.whl.metadata (2.8 kB)\n",
      "Requirement already satisfied: platformdirs<5,>=3.9.1 in c:\\users\\camil\\documents\\github\\ds_pt_09_2023\\.venv\\lib\\site-packages (from virtualenv->virtualenvwrapper-win) (4.2.0)\n",
      "Downloading virtualenvwrapper_win-1.2.7-py3-none-any.whl (18 kB)\n",
      "Downloading virtualenv-20.25.1-py3-none-any.whl (3.8 MB)\n",
      "   ---------------------------------------- 0.0/3.8 MB ? eta -:--:--\n",
      "   - -------------------------------------- 0.1/3.8 MB 2.4 MB/s eta 0:00:02\n",
      "   ---- ----------------------------------- 0.5/3.8 MB 5.8 MB/s eta 0:00:01\n",
      "   --------- ------------------------------ 0.9/3.8 MB 6.9 MB/s eta 0:00:01\n",
      "   -------------- ------------------------- 1.3/3.8 MB 7.7 MB/s eta 0:00:01\n",
      "   ------------------- -------------------- 1.9/3.8 MB 8.5 MB/s eta 0:00:01\n",
      "   -------------------------- ------------- 2.5/3.8 MB 8.8 MB/s eta 0:00:01\n",
      "   ------------------------------- -------- 3.0/3.8 MB 9.6 MB/s eta 0:00:01\n",
      "   -------------------------------------- - 3.6/3.8 MB 9.6 MB/s eta 0:00:01\n",
      "   ---------------------------------------  3.8/3.8 MB 9.7 MB/s eta 0:00:01\n",
      "   ---------------------------------------- 3.8/3.8 MB 8.6 MB/s eta 0:00:00\n",
      "Downloading distlib-0.3.8-py2.py3-none-any.whl (468 kB)\n",
      "   ---------------------------------------- 0.0/468.9 kB ? eta -:--:--\n",
      "   --------------------------------------  460.8/468.9 kB 14.5 MB/s eta 0:00:01\n",
      "   ---------------------------------------- 468.9/468.9 kB 9.8 MB/s eta 0:00:00\n",
      "Using cached filelock-3.13.1-py3-none-any.whl (11 kB)\n",
      "Installing collected packages: distlib, filelock, virtualenv, virtualenvwrapper-win\n",
      "Successfully installed distlib-0.3.8 filelock-3.13.1 virtualenv-20.25.1 virtualenvwrapper-win-1.2.7\n",
      "Note: you may need to restart the kernel to use updated packages.\n"
     ]
    }
   ],
   "source": [
    "pip install virtualenvwrapper-win"
   ]
  },
  {
   "attachments": {},
   "cell_type": "markdown",
   "metadata": {},
   "source": [
    "Linux/Mac"
   ]
  },
  {
   "attachments": {},
   "cell_type": "markdown",
   "metadata": {},
   "source": [
    "> pip install virtualenvwrapper"
   ]
  },
  {
   "attachments": {},
   "cell_type": "markdown",
   "metadata": {},
   "source": [
    "## Crea el Entorno Virutal"
   ]
  },
  {
   "attachments": {},
   "cell_type": "markdown",
   "metadata": {},
   "source": [
    "La estructura del comando para crear un entorno virtual es la siguiente:"
   ]
  },
  {
   "attachments": {},
   "cell_type": "markdown",
   "metadata": {},
   "source": [
    "python -m venv nombre-del-entorno"
   ]
  },
  {
   "attachments": {},
   "cell_type": "markdown",
   "metadata": {},
   "source": [
    "Donde \"nombre_del_entorno\" es el nombre que deseas darle a tu entorno virtual. Al ejecutar este comando, se creará una carpeta con el nombre proporcionado, la cual contendrá todos los componentes necesarios para tu entorno virtual, incluyendo una copia del intérprete de Python y las bibliotecas asociadas."
   ]
  },
  {
   "attachments": {},
   "cell_type": "markdown",
   "metadata": {},
   "source": [
    "El comando \"-m venv\" se utiliza para ejecutar el paquete \"venv\" desde el archivo fuente como un script independiente, utilizando el nombre proporcionado como argumento. Dentro del directorio \"microblog\", ahora crearás un entorno virtual. La mayoría de las personas suelen llamar a los entornos virtuales \"venv\", pero puedes elegir otro nombre si así lo deseas. Asegúrate de que estás ubicado en el directorio \"microblog\" y ejecuta el siguiente comando:"
   ]
  },
  {
   "attachments": {},
   "cell_type": "markdown",
   "metadata": {},
   "source": [
    "python -m venv venv"
   ]
  },
  {
   "attachments": {},
   "cell_type": "markdown",
   "metadata": {},
   "source": [
    "Este subdirectorio contendrá un nuevo entorno virtual con un intérprete de Python dedicado exclusivamente a este proyecto."
   ]
  },
  {
   "attachments": {},
   "cell_type": "markdown",
   "metadata": {},
   "source": [
    "```\n",
    "env/\n",
    "    Include/\n",
    "    Lib/\n",
    "    Scripts/\n",
    "    pyvenv.cfg\n",
    "```"
   ]
  },
  {
   "attachments": {},
   "cell_type": "markdown",
   "metadata": {},
   "source": [
    "Para activar el entorno virtual se utiliza la siguiente línea:"
   ]
  },
  {
   "attachments": {},
   "cell_type": "markdown",
   "metadata": {},
   "source": [
    ">env\\Scripts\\activate.bat"
   ]
  },
  {
   "attachments": {},
   "cell_type": "markdown",
   "metadata": {},
   "source": [
    "## Instalación de Paquetes Python"
   ]
  },
  {
   "attachments": {},
   "cell_type": "markdown",
   "metadata": {},
   "source": [
    "Todos los entornos virtuales incluyen el gestor de paquetes pip, el cual se utiliza para instalar paquetes de Python. De manera similar al comando \"python\", al ingresar \"pip\" en la línea de comandos se ejecutará la versión de este programa que esté asociada al entorno virtual activo.\n",
    "\n",
    "Asegúrate de que el entorno virtual esté activo antes de ejecutar el siguiente comando para instalar Flask en él:"
   ]
  },
  {
   "cell_type": "code",
   "execution_count": 1,
   "metadata": {},
   "outputs": [
    {
     "name": "stdout",
     "output_type": "stream",
     "text": [
      "Collecting Flask\n",
      "  Downloading flask-3.0.2-py3-none-any.whl.metadata (3.6 kB)\n",
      "Collecting Werkzeug>=3.0.0 (from Flask)\n",
      "  Using cached werkzeug-3.0.1-py3-none-any.whl.metadata (4.1 kB)\n",
      "Requirement already satisfied: Jinja2>=3.1.2 in c:\\users\\camil\\documents\\github\\ds_pt_09_2023\\.venv\\lib\\site-packages (from Flask) (3.1.3)\n",
      "Collecting itsdangerous>=2.1.2 (from Flask)\n",
      "  Downloading itsdangerous-2.1.2-py3-none-any.whl.metadata (2.9 kB)\n",
      "Requirement already satisfied: click>=8.1.3 in c:\\users\\camil\\documents\\github\\ds_pt_09_2023\\.venv\\lib\\site-packages (from Flask) (8.1.7)\n",
      "Requirement already satisfied: blinker>=1.6.2 in c:\\users\\camil\\documents\\github\\ds_pt_09_2023\\.venv\\lib\\site-packages (from Flask) (1.7.0)\n",
      "Requirement already satisfied: colorama in c:\\users\\camil\\documents\\github\\ds_pt_09_2023\\.venv\\lib\\site-packages (from click>=8.1.3->Flask) (0.4.6)\n",
      "Requirement already satisfied: MarkupSafe>=2.0 in c:\\users\\camil\\documents\\github\\ds_pt_09_2023\\.venv\\lib\\site-packages (from Jinja2>=3.1.2->Flask) (2.1.5)\n",
      "Downloading flask-3.0.2-py3-none-any.whl (101 kB)\n",
      "   ---------------------------------------- 0.0/101.3 kB ? eta -:--:--\n",
      "   ---------------------------------------- 0.0/101.3 kB ? eta -:--:--\n",
      "   ---------------------------------------- 0.0/101.3 kB ? eta -:--:--\n",
      "   ---------------------------------------- 0.0/101.3 kB ? eta -:--:--\n",
      "   ------------ --------------------------- 30.7/101.3 kB ? eta -:--:--\n",
      "   ------------ --------------------------- 30.7/101.3 kB ? eta -:--:--\n",
      "   ----------------------------------- --- 92.2/101.3 kB 744.7 kB/s eta 0:00:01\n",
      "   -------------------------------------- 101.3/101.3 kB 583.7 kB/s eta 0:00:00\n",
      "Downloading itsdangerous-2.1.2-py3-none-any.whl (15 kB)\n",
      "Using cached werkzeug-3.0.1-py3-none-any.whl (226 kB)\n",
      "Installing collected packages: Werkzeug, itsdangerous, Flask\n",
      "Successfully installed Flask-3.0.2 Werkzeug-3.0.1 itsdangerous-2.1.2\n",
      "Note: you may need to restart the kernel to use updated packages.\n"
     ]
    }
   ],
   "source": [
    "pip install Flask"
   ]
  },
  {
   "attachments": {},
   "cell_type": "markdown",
   "metadata": {},
   "source": [
    "<div>\n",
    "    <a href=\"../Flask.py\">\n",
    "        <img src=\"../img/return.png\" alt=\"return\" title=\"return\" width=\"75\" style=\"float: left;\" />\n",
    "    </a>\n",
    "    <a href=\"./NB02.ipynb\">\n",
    "        <img src=\"../img/forward.png\" alt=\"forward\" title=\"forward\" width=\"75\" style=\"float: right;\" />\n",
    "    </a>\n",
    "</div>"
   ]
  }
 ],
 "metadata": {
  "kernelspec": {
   "display_name": ".venv",
   "language": "python",
   "name": "python3"
  },
  "language_info": {
   "codemirror_mode": {
    "name": "ipython",
    "version": 3
   },
   "file_extension": ".py",
   "mimetype": "text/x-python",
   "name": "python",
   "nbconvert_exporter": "python",
   "pygments_lexer": "ipython3",
   "version": "3.12.2"
  },
  "orig_nbformat": 4
 },
 "nbformat": 4,
 "nbformat_minor": 2
}
