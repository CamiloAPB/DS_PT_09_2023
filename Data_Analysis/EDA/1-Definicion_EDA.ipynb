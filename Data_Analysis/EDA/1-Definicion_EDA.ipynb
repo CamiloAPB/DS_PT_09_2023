{
 "cells": [
  {
   "cell_type": "markdown",
   "metadata": {},
   "source": [
    "![imagen](./img/ejercicios.png)"
   ]
  },
  {
   "cell_type": "markdown",
   "metadata": {},
   "source": [
    "# INFORMACIÓN DEL PROYECTO"
   ]
  },
  {
   "cell_type": "markdown",
   "metadata": {},
   "source": [
    "### TÍTULO"
   ]
  },
  {
   "cell_type": "code",
   "execution_count": null,
   "metadata": {},
   "outputs": [],
   "source": [
    "#Escribe el título del proyecto en Markdown"
   ]
  },
  {
   "cell_type": "markdown",
   "metadata": {},
   "source": [
    "# Análisis del metajuego competitivo del league of legends en la temporada 10"
   ]
  },
  {
   "cell_type": "markdown",
   "metadata": {},
   "source": [
    "### TEMA"
   ]
  },
  {
   "cell_type": "code",
   "execution_count": null,
   "metadata": {},
   "outputs": [],
   "source": [
    "# Describe brevemente el tema del proyecto en Markdown"
   ]
  },
  {
   "cell_type": "markdown",
   "metadata": {},
   "source": [
    "El league of legends es el e-sport mas importante el mundo. Y cómo en todos los deportes, la estadística avanzada ha asumido un papel clave en el desarrollo deportivo de la escena en general y de los equipos en particular. Este análisis exploratorio de datos tiene como objetivo descubrir cuáles han sido los factores clave que han definido la escena competitiva (profesional) durante la temporada 10 de league of legends."
   ]
  },
  {
   "cell_type": "markdown",
   "metadata": {},
   "source": [
    "### HIPÓTESIS"
   ]
  },
  {
   "cell_type": "markdown",
   "metadata": {},
   "source": [
    "Define aquí lo que será la hipótesis de tu proyecto.\n",
    "Puede que tengas más de una, pero tu proyecto lo harás teniendo una principal hipótesis."
   ]
  },
  {
   "cell_type": "code",
   "execution_count": null,
   "metadata": {},
   "outputs": [],
   "source": [
    "# Escribe tu hipótesis principal en Markdown"
   ]
  },
  {
   "cell_type": "markdown",
   "metadata": {},
   "source": [
    "El league of legends es un juego en el que se enfrentan dos equipos en un mapa pseudosimétrico, en el que el objetivo es destruir la base del equipo rival ubicada en el lado opuesto del mapa. El mapa no es completamente simétrico y desde ambos lados del mapa tiene ciertas características únicas en las que ambos difieren. El lado del que juega cada equipo se suele decidir por sorteo en el cual el ganador elige el lado desde el que quiere jugar. La hipótesis principal de este estudio es identificar si la elección de lado es determinante o no a la hora de jugar con ventaja.  "
   ]
  },
  {
   "cell_type": "code",
   "execution_count": null,
   "metadata": {},
   "outputs": [],
   "source": [
    "# Escribe más hipótesis si las hubiera en Markdown"
   ]
  },
  {
   "cell_type": "markdown",
   "metadata": {},
   "source": [
    "Habiendo discernido si el lado en el que se encuentra tu base es ventajoso o no, podemos tener otros factores en cuenta que pueden funcionar como hipótesis por separado y también pudiendo relacionarlas con la elección de lado:\n",
    "* Cuales han sido los personajes jugables mas importantes y si son decisivos a la hora de ganar o no. Existen personajes que tengan mucho éxito desde un lado en especifíco.\n",
    "* Como influyen la elección de lado y la selección de personajes en el devenir de una partida (principalmente en el tiempo de juego)\n",
    "* Existen equipos que se salgan de la norma y ganen mas desde el lado que menos sea favorable generalmente. En caso afirmativo, escogen personajes distintos a los más populares.\n",
    "*  El parche es la versión del juego, que se va actualizando a lo largo de la temporada. Como influye el parche en las hipótesis previamente planteadas.\n",
    "* En caso de que el parche sea determinante, ha habido algún equipo que se haya sido seriamente perjudicado o beneficiado por este mismo. O los equipos que suelen tener éxito dominan independientemente del parche."
   ]
  },
  {
   "cell_type": "markdown",
   "metadata": {},
   "source": [
    "## OBTENCIÓN DE LOS DATOS"
   ]
  },
  {
   "cell_type": "markdown",
   "metadata": {},
   "source": [
    "### DATASETS Y FUENTES ALTERNATIVAS DE DATOS"
   ]
  },
  {
   "cell_type": "markdown",
   "metadata": {},
   "source": [
    "Incluye aquí una breve descripción del dataset o datasets de los que partirás para poder evaluar tu hipótesis. <br>\n",
    "También incluye el origen de estos datos y su fuente."
   ]
  },
  {
   "cell_type": "code",
   "execution_count": null,
   "metadata": {},
   "outputs": [],
   "source": [
    "# describe la fuente de tus datos e incluye los links en Markdown"
   ]
  },
  {
   "cell_type": "markdown",
   "metadata": {},
   "source": [
    "El dataset principal será un csv de kaggle el cual recopila información de todos los partidos competitivos de league of legends en la temporda 10. Aporta información sobre estadíticas principales tanto grupales como individuales de cada jugador. El link https://www.kaggle.com/datasets/fernandorubiogarcia/2020-league-of-legends-competitive-games"
   ]
  },
  {
   "cell_type": "markdown",
   "metadata": {},
   "source": [
    "Muestra mediante un head() los principales datasets con los que vas a trabajar"
   ]
  },
  {
   "cell_type": "code",
   "execution_count": 2,
   "metadata": {},
   "outputs": [
    {
     "data": {
      "text/html": [
       "<div>\n",
       "<style scoped>\n",
       "    .dataframe tbody tr th:only-of-type {\n",
       "        vertical-align: middle;\n",
       "    }\n",
       "\n",
       "    .dataframe tbody tr th {\n",
       "        vertical-align: top;\n",
       "    }\n",
       "\n",
       "    .dataframe thead th {\n",
       "        text-align: right;\n",
       "    }\n",
       "</style>\n",
       "<table border=\"1\" class=\"dataframe\">\n",
       "  <thead>\n",
       "    <tr style=\"text-align: right;\">\n",
       "      <th></th>\n",
       "      <th>gameId</th>\n",
       "      <th>league</th>\n",
       "      <th>split</th>\n",
       "      <th>playoffs</th>\n",
       "      <th>date</th>\n",
       "      <th>game</th>\n",
       "      <th>patch</th>\n",
       "      <th>gamelength</th>\n",
       "      <th>t1_playerid</th>\n",
       "      <th>t1_ban1</th>\n",
       "      <th>...</th>\n",
       "      <th>t2p5_monsterkills</th>\n",
       "      <th>t2p5_monsterkillsownjungle</th>\n",
       "      <th>t2p5_monsterkillsenemyjungle</th>\n",
       "      <th>t2p5_cspm</th>\n",
       "      <th>t2p5_goldat10</th>\n",
       "      <th>t2p5pat10</th>\n",
       "      <th>t2p5_csat10</th>\n",
       "      <th>t2p5_goldat15</th>\n",
       "      <th>t2p5pat15</th>\n",
       "      <th>t2p5_csat15</th>\n",
       "    </tr>\n",
       "  </thead>\n",
       "  <tbody>\n",
       "    <tr>\n",
       "      <th>0</th>\n",
       "      <td>1241318</td>\n",
       "      <td>KeSPA</td>\n",
       "      <td>NaN</td>\n",
       "      <td>0</td>\n",
       "      <td>03/01/2020 7:33</td>\n",
       "      <td>1</td>\n",
       "      <td>9.24</td>\n",
       "      <td>2220</td>\n",
       "      <td>SANDBOX Gaming</td>\n",
       "      <td>LeBlanc</td>\n",
       "      <td>...</td>\n",
       "      <td>27.0</td>\n",
       "      <td>18.0</td>\n",
       "      <td>0.0</td>\n",
       "      <td>8.2162</td>\n",
       "      <td>2845.0</td>\n",
       "      <td>4432.0</td>\n",
       "      <td>65.0</td>\n",
       "      <td>4723.0</td>\n",
       "      <td>7202.0</td>\n",
       "      <td>118.0</td>\n",
       "    </tr>\n",
       "    <tr>\n",
       "      <th>1</th>\n",
       "      <td>1241322</td>\n",
       "      <td>KeSPA</td>\n",
       "      <td>NaN</td>\n",
       "      <td>0</td>\n",
       "      <td>03/01/2020 9:00</td>\n",
       "      <td>2</td>\n",
       "      <td>9.24</td>\n",
       "      <td>2227</td>\n",
       "      <td>T1</td>\n",
       "      <td>Syndra</td>\n",
       "      <td>...</td>\n",
       "      <td>42.0</td>\n",
       "      <td>15.0</td>\n",
       "      <td>5.0</td>\n",
       "      <td>8.5406</td>\n",
       "      <td>3657.0</td>\n",
       "      <td>5135.0</td>\n",
       "      <td>93.0</td>\n",
       "      <td>6627.0</td>\n",
       "      <td>8784.0</td>\n",
       "      <td>162.0</td>\n",
       "    </tr>\n",
       "    <tr>\n",
       "      <th>2</th>\n",
       "      <td>1241324</td>\n",
       "      <td>KeSPA</td>\n",
       "      <td>NaN</td>\n",
       "      <td>0</td>\n",
       "      <td>03/01/2020 10:05</td>\n",
       "      <td>3</td>\n",
       "      <td>9.24</td>\n",
       "      <td>1711</td>\n",
       "      <td>T1</td>\n",
       "      <td>LeBlanc</td>\n",
       "      <td>...</td>\n",
       "      <td>8.0</td>\n",
       "      <td>1.0</td>\n",
       "      <td>0.0</td>\n",
       "      <td>8.2759</td>\n",
       "      <td>3282.0</td>\n",
       "      <td>4851.0</td>\n",
       "      <td>90.0</td>\n",
       "      <td>5252.0</td>\n",
       "      <td>7933.0</td>\n",
       "      <td>150.0</td>\n",
       "    </tr>\n",
       "    <tr>\n",
       "      <th>3</th>\n",
       "      <td>1241328</td>\n",
       "      <td>KeSPA</td>\n",
       "      <td>NaN</td>\n",
       "      <td>0</td>\n",
       "      <td>03/01/2020 10:57</td>\n",
       "      <td>4</td>\n",
       "      <td>9.24</td>\n",
       "      <td>1999</td>\n",
       "      <td>T1</td>\n",
       "      <td>Rumble</td>\n",
       "      <td>...</td>\n",
       "      <td>16.0</td>\n",
       "      <td>4.0</td>\n",
       "      <td>9.0</td>\n",
       "      <td>9.4247</td>\n",
       "      <td>3351.0</td>\n",
       "      <td>4671.0</td>\n",
       "      <td>92.0</td>\n",
       "      <td>5190.0</td>\n",
       "      <td>7374.0</td>\n",
       "      <td>144.0</td>\n",
       "    </tr>\n",
       "    <tr>\n",
       "      <th>4</th>\n",
       "      <td>1241386</td>\n",
       "      <td>KeSPA</td>\n",
       "      <td>NaN</td>\n",
       "      <td>0</td>\n",
       "      <td>04/01/2020 5:33</td>\n",
       "      <td>1</td>\n",
       "      <td>9.24</td>\n",
       "      <td>1812</td>\n",
       "      <td>DRX</td>\n",
       "      <td>Qiyana</td>\n",
       "      <td>...</td>\n",
       "      <td>27.0</td>\n",
       "      <td>12.0</td>\n",
       "      <td>4.0</td>\n",
       "      <td>8.9404</td>\n",
       "      <td>3587.0</td>\n",
       "      <td>4809.0</td>\n",
       "      <td>88.0</td>\n",
       "      <td>5114.0</td>\n",
       "      <td>7078.0</td>\n",
       "      <td>134.0</td>\n",
       "    </tr>\n",
       "  </tbody>\n",
       "</table>\n",
       "<p>5 rows × 408 columns</p>\n",
       "</div>"
      ],
      "text/plain": [
       "    gameId league split  playoffs              date  game  patch  gamelength  \\\n",
       "0  1241318  KeSPA   NaN         0   03/01/2020 7:33     1   9.24        2220   \n",
       "1  1241322  KeSPA   NaN         0   03/01/2020 9:00     2   9.24        2227   \n",
       "2  1241324  KeSPA   NaN         0  03/01/2020 10:05     3   9.24        1711   \n",
       "3  1241328  KeSPA   NaN         0  03/01/2020 10:57     4   9.24        1999   \n",
       "4  1241386  KeSPA   NaN         0   04/01/2020 5:33     1   9.24        1812   \n",
       "\n",
       "      t1_playerid  t1_ban1  ... t2p5_monsterkills t2p5_monsterkillsownjungle  \\\n",
       "0  SANDBOX Gaming  LeBlanc  ...              27.0                       18.0   \n",
       "1              T1   Syndra  ...              42.0                       15.0   \n",
       "2              T1  LeBlanc  ...               8.0                        1.0   \n",
       "3              T1   Rumble  ...              16.0                        4.0   \n",
       "4             DRX   Qiyana  ...              27.0                       12.0   \n",
       "\n",
       "  t2p5_monsterkillsenemyjungle t2p5_cspm  t2p5_goldat10  t2p5pat10  \\\n",
       "0                          0.0    8.2162         2845.0     4432.0   \n",
       "1                          5.0    8.5406         3657.0     5135.0   \n",
       "2                          0.0    8.2759         3282.0     4851.0   \n",
       "3                          9.0    9.4247         3351.0     4671.0   \n",
       "4                          4.0    8.9404         3587.0     4809.0   \n",
       "\n",
       "   t2p5_csat10  t2p5_goldat15  t2p5pat15  t2p5_csat15  \n",
       "0         65.0         4723.0     7202.0        118.0  \n",
       "1         93.0         6627.0     8784.0        162.0  \n",
       "2         90.0         5252.0     7933.0        150.0  \n",
       "3         92.0         5190.0     7374.0        144.0  \n",
       "4         88.0         5114.0     7078.0        134.0  \n",
       "\n",
       "[5 rows x 408 columns]"
      ]
     },
     "execution_count": 2,
     "metadata": {},
     "output_type": "execute_result"
    }
   ],
   "source": [
    "import pandas as pd\n",
    "data_principal = pd.read_csv(\"C:\\\\Users\\\\camil\\\\Downloads\\\\The Bridge\\\\08_19_2020.csv\", sep =\";\")\n",
    "data_principal.head()"
   ]
  },
  {
   "cell_type": "markdown",
   "metadata": {},
   "source": [
    "El resto de datasets qwue vaya a utilizar todavía no los he descargado pero la mayoría provendran de las APIs de [leaguepedia](https://lol.fandom.com/wiki/League_of_Legends_Esports_Wiki), la mayor base de datos globlal sobre leeague of legends competitivo"
   ]
  },
  {
   "cell_type": "code",
   "execution_count": null,
   "metadata": {},
   "outputs": [],
   "source": []
  }
 ],
 "metadata": {
  "interpreter": {
   "hash": "7c77fdb427e7cbc9bc1367dd530fc2b36aacdbbde1ac83c85833b10dfa8b831c"
  },
  "kernelspec": {
   "display_name": "Python 3.7.4 64-bit",
   "language": "python",
   "name": "python3"
  },
  "language_info": {
   "codemirror_mode": {
    "name": "ipython",
    "version": 3
   },
   "file_extension": ".py",
   "mimetype": "text/x-python",
   "name": "python",
   "nbconvert_exporter": "python",
   "pygments_lexer": "ipython3",
   "version": "3.11.5"
  },
  "orig_nbformat": 4
 },
 "nbformat": 4,
 "nbformat_minor": 2
}
